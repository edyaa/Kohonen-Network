{
 "cells": [
  {
   "cell_type": "code",
   "execution_count": 2,
   "metadata": {},
   "outputs": [],
   "source": [
    "import numpy as np\n",
    "from scipy.spatial.distance import euclidean\n",
    "import pandas as pd\n",
    "import seaborn as sns\n",
    "import math\n",
    "from collections import Counter\n",
    "from sklearn import preprocessing"
   ]
  },
  {
   "cell_type": "code",
   "execution_count": 3,
   "metadata": {},
   "outputs": [],
   "source": [
    "class Kohonen:\n",
    "    \"\"\" Класс, реализующий сеть Кохонена\"\"\"\n",
    "    def __init__(self, data):\n",
    "        \"\"\"\n",
    "        Конструктор принимает на вход данные, инициализирует веса и штраф\n",
    "        \"\"\"\n",
    "        self.data = data\n",
    "        # Веса генерируются рандомно\n",
    "        self.weights = np.array([ \n",
    "            np.random.uniform(-10., 10., 7),\n",
    "            np.random.uniform(-10., 10., 7),\n",
    "            np.random.uniform(-10., 10., 7),\n",
    "        ])\n",
    "        # Штраф, чтобы один кластер не \"тянул на себя одеяло\"\n",
    "        self.s = np.ones(len(self.weights))\n",
    "    \n",
    "    def winner_idx(self, x_, w_):\n",
    "        \"\"\"\n",
    "        Метод возвращает индекс ближайшего кластера\n",
    "        \"\"\"\n",
    "        return np.argmax([np.dot(x_, w_[i]) * self.s[i] for i in range(len(w_))])\n",
    "\n",
    "    def train(self, epochs, learning_rate):\n",
    "        data = self.data\n",
    "        weights = self.weights\n",
    "        self.lr = learning_rate\n",
    "        idx_last = -1\n",
    "        num_epoch = epochs + 1\n",
    "        while epochs != 0:\n",
    "            print(f'Epoch: {num_epoch - epochs}')\n",
    "            i = 0\n",
    "            while i < len(data):\n",
    "                # Индекс ближайшего кластера\n",
    "                idx = self.winner_idx(data[i], weights)\n",
    "                if idx == idx_last:\n",
    "                    self.s[idx] -= 0.1\n",
    "                idx_last = idx\n",
    "                weights[idx] = weights[idx] + self.lr * (data[i]- weights[idx])\n",
    "                i += 1\n",
    "            epochs -= 1\n",
    "    \n",
    "    def predict(self, test_x):\n",
    "        \"\"\"Метод возвращает кластер, к которому принадлежит test_x\"\"\"\n",
    "        return np.argmax([np.dot(test_x, self.weights[i])\n",
    "                          for i in range(len(self.weights))])"
   ]
  },
  {
   "cell_type": "code",
   "execution_count": 4,
   "metadata": {},
   "outputs": [],
   "source": [
    "# Берем готовые данные\n",
    "x_train = pd.read_csv(\"P/price_train.tsv\", sep=\"\\t\")\n",
    "# Выбираем нужные нам колонки\n",
    "need_col = ['unique_active_buildings_count', 'unique_active_building_series_count', 'rooms_offered_3_ratio',\n",
    "            'rooms_offered_1_ratio', 'total_area_avg', \n",
    "            'offer_count', 'rooms_offered_2_ratio']\n",
    "x = x_train.loc[:, need_col]\n",
    "# Нормализуем данные, чтобы значения были от 0 до 1\n",
    "normalized_X = preprocessing.scale(x)"
   ]
  },
  {
   "cell_type": "code",
   "execution_count": 5,
   "metadata": {},
   "outputs": [
    {
     "name": "stdout",
     "output_type": "stream",
     "text": [
      "Epoch: 1\n",
      "Epoch: 2\n",
      "Epoch: 3\n",
      "Epoch: 4\n",
      "Epoch: 5\n",
      "Epoch: 6\n",
      "Epoch: 7\n",
      "Epoch: 8\n",
      "Epoch: 9\n",
      "Epoch: 10\n",
      "Epoch: 11\n",
      "Epoch: 12\n",
      "Epoch: 13\n",
      "Epoch: 14\n",
      "Epoch: 15\n",
      "Epoch: 16\n",
      "Epoch: 17\n",
      "Epoch: 18\n",
      "Epoch: 19\n",
      "Epoch: 20\n"
     ]
    }
   ],
   "source": [
    "# Инициализируем экзмпляр класс\n",
    "net = Kohonen(data=normalized_X)\n",
    "# Обучаем модель\n",
    "net.train(epochs=20, learning_rate=0.2)"
   ]
  },
  {
   "cell_type": "code",
   "execution_count": null,
   "metadata": {},
   "outputs": [],
   "source": []
  },
  {
   "cell_type": "code",
   "execution_count": 6,
   "metadata": {},
   "outputs": [],
   "source": [
    "arr = []\n",
    "w1 = []\n",
    "w2 = []\n",
    "w3 = []\n",
    "\n",
    "# Добавляем стоимость дома в зависимости от предсказания\n",
    "for i in range(normalized_X.shape[0]):\n",
    "    arr.append(net.predict(normalized_X[i]))\n",
    "    if net.predict(normalized_X[i]) == 0:\n",
    "        w1.append(x_train['avg_price_sqm'][i])\n",
    "    elif net.predict(normalized_X[i]) == 1:\n",
    "        w2.append(x_train['avg_price_sqm'][i])\n",
    "    elif net.predict(normalized_X[i]) == 2:\n",
    "        w3.append(x_train['avg_price_sqm'][i])\n",
    "w1.sort()\n",
    "w2.sort()\n",
    "w3.sort()"
   ]
  },
  {
   "cell_type": "code",
   "execution_count": 7,
   "metadata": {},
   "outputs": [
    {
     "name": "stdout",
     "output_type": "stream",
     "text": [
      "Различные статистические показатели кластеров: (цена в $)\n",
      "\n",
      "1 Кластер (средний класс): \n",
      "\tСредняя стоимость: 166282.03107237557\n",
      "\tМедиана стоимости: 117944.52997622284 \n",
      "\tКвантиль 0.75: 208727.55681818182\n",
      "2 Кластер (высший класс): \n",
      "\tСредняя стоимость: 126657.96932617232\n",
      "\tМедиана стоимости: 101829.068359375 \n",
      "\tКвантиль 0.75: 161866.34374606225\n",
      "3 Кластер (низший класс): \n",
      "\tСредняя стоимость: 82271.84077499858\n",
      "\tМедиана стоимости: 68085.109375 \n",
      "\tКвантиль 0.75: 98625.17002203525\n"
     ]
    }
   ],
   "source": [
    "print(\"Различные статистические показатели кластеров: (цена в $)\\n\")\n",
    "print(f\"1 Кластер (средний класс): \\n\\tСредняя стоимость: {np.mean(w1)}\\n\\tМедиана стоимости: {np.median(w1)} \\n\\tКвантиль 0.75: {np.quantile(w1, 0.75)}\")\n",
    "print(f\"2 Кластер (высший класс): \\n\\tСредняя стоимость: {np.mean(w2)}\\n\\tМедиана стоимости: {np.median(w2)} \\n\\tКвантиль 0.75: {np.quantile(w2, 0.75)}\")\n",
    "print(f\"3 Кластер (низший класс): \\n\\tСредняя стоимость: {np.mean(w3)}\\n\\tМедиана стоимости: {np.median(w3)} \\n\\tКвантиль 0.75: {np.quantile(w3, 0.75)}\")"
   ]
  },
  {
   "cell_type": "code",
   "execution_count": null,
   "metadata": {},
   "outputs": [],
   "source": []
  },
  {
   "cell_type": "code",
   "execution_count": null,
   "metadata": {},
   "outputs": [],
   "source": []
  }
 ],
 "metadata": {
  "kernelspec": {
   "display_name": "Python 3",
   "language": "python",
   "name": "python3"
  },
  "language_info": {
   "codemirror_mode": {
    "name": "ipython",
    "version": 3
   },
   "file_extension": ".py",
   "mimetype": "text/x-python",
   "name": "python",
   "nbconvert_exporter": "python",
   "pygments_lexer": "ipython3",
   "version": "3.6.12"
  }
 },
 "nbformat": 4,
 "nbformat_minor": 4
}
